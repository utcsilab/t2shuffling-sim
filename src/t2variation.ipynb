{
 "cells": [
  {
   "cell_type": "code",
   "execution_count": 1,
   "metadata": {
    "collapsed": true
   },
   "outputs": [],
   "source": [
    "import numpy as np\n",
    "import matplotlib.pyplot as plt\n",
    "import matplotlib.pylab as pylab\n",
    "from epg import *\n",
    "%matplotlib inline\n",
    "pylab.rcParams['figure.figsize'] = 10, 4\n"
   ]
  },
  {
   "cell_type": "code",
   "execution_count": 2,
   "metadata": {
    "collapsed": false
   },
   "outputs": [],
   "source": [
    "TE = 4.048e-3\n",
    "angles = np.loadtxt('/Users/jtamir/scan-data/feet/synth_foot/sim_for_paper/flipmod/flipangles.txt.408183520')\n",
    "angles_rad = angles * np.pi / 180.\n",
    "T = len(angles_rad)"
   ]
  },
  {
   "cell_type": "code",
   "execution_count": 3,
   "metadata": {
    "collapsed": false
   },
   "outputs": [
    {
     "data": {
      "text/plain": [
       "<matplotlib.legend.Legend at 0x1128ab510>"
      ]
     },
     "execution_count": 3,
     "metadata": {},
     "output_type": "execute_result"
    },
    {
     "data": {
      "image/png": "[encoded data removed]",
      "text/plain": [
       "<matplotlib.figure.Figure at 0x111659c10>"
      ]
     },
     "metadata": {},
     "output_type": "display_data"
    }
   ],
   "source": [
    "T1vals = np.array([500., 800., 1000., 2000.]) * 1e-3\n",
    "L = len(T1vals)\n",
    "T2 = 150-3\n",
    "\n",
    "S = np.zeros((T,L), dtype=complex)\n",
    "for j in range(L):\n",
    "    T1 = T1vals[j]\n",
    "    P = np.matrix([[0],[0],[1]])    # initially in M0\n",
    "\n",
    "    P = epg_rf(P, pi/2, pi/2)[0]    # 90 degree tip\n",
    "\n",
    "    for i in range(T):\n",
    "        alpha = angles_rad[i]\n",
    "        P = epg_relax(P, T1, T2, TE/2.)[0]\n",
    "        P = epg_grad(P)\n",
    "        P = epg_rf(P, alpha, 0)[0]\n",
    "        P = epg_relax(P, T1, T2, TE/2.)[0]\n",
    "        P = epg_grad(P)\n",
    "\n",
    "        S[i,j] = P[0,0]\n",
    "        scale =  (1 + abs(alpha)/(1*pi))\n",
    "        T2 = T2 * scale\n",
    "        \n",
    "plt.plot(range(T), np.abs(S))\n",
    "plt.ylim((0,1))\n",
    "plt.legend(['T1 = %d ms' % (1000 * s) for s in T1vals])"
   ]
  },
  {
   "cell_type": "code",
   "execution_count": null,
   "metadata": {
    "collapsed": true
   },
   "outputs": [],
   "source": []
  }
 ],
 "metadata": {
  "kernelspec": {
   "display_name": "Python 2",
   "language": "python",
   "name": "python2"
  },
  "language_info": {
   "codemirror_mode": {
    "name": "ipython",
    "version": 2
   },
   "file_extension": ".py",
   "mimetype": "text/x-python",
   "name": "python",
   "nbconvert_exporter": "python",
   "pygments_lexer": "ipython2",
   "version": "2.7.9"
  }
 },
 "nbformat": 4,
 "nbformat_minor": 0
}
