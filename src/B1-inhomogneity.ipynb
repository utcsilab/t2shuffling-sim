{
 "cells": [
  {
   "cell_type": "code",
   "execution_count": 3,
   "metadata": {
    "collapsed": true
   },
   "outputs": [],
   "source": [
    "import numpy as np\n",
    "import matplotlib.pyplot as plt\n",
    "import matplotlib.pylab as pylab\n",
    "from epg import *\n",
    "%matplotlib inline\n",
    "pylab.rcParams['figure.figsize'] = 10, 4\n"
   ]
  },
  {
   "cell_type": "code",
   "execution_count": 4,
   "metadata": {
    "collapsed": false
   },
   "outputs": [],
   "source": [
    "TE = 4.048e-3\n",
    "angles = np.loadtxt('/Users/jtamir/scan-data/feet/synth_foot/sim_for_paper/flipmod/flipangles.txt.408183520')\n",
    "angles_rad = angles * np.pi / 180.\n",
    "T = len(angles_rad)"
   ]
  },
  {
   "cell_type": "code",
   "execution_count": 7,
   "metadata": {
    "collapsed": false
   },
   "outputs": [
    {
     "name": "stdout",
     "output_type": "stream",
     "text": [
      "0\n",
      "1\n",
      "2\n",
      "3\n",
      "4\n",
      "5\n",
      "6\n",
      "7\n",
      "8\n",
      "9\n",
      "10\n",
      "11\n",
      "12\n",
      "13\n",
      "14\n",
      "15\n"
     ]
    }
   ],
   "source": [
    "T1 = 1000e-3\n",
    "\n",
    "M = 16\n",
    "N = 32\n",
    "\n",
    "B_errs = np.linspace(-.4, .4, M)\n",
    "T2_vals = np.linspace(10, 1000, N) * 1e-3\n",
    "\n",
    "\n",
    "\n",
    "A_vals = np.zeros((T, M, N))\n",
    "\n",
    "for b in range(M):\n",
    "    B_err = B_errs[b]\n",
    "    print b\n",
    "    \n",
    "    for j in range(N):\n",
    "        T2 = T2_vals[j]\n",
    "    \n",
    "        P = np.matrix([[0],[0],[1]])    # initially in M0\n",
    "\n",
    "        alpha = pi/2 * (1 + B_err)\n",
    "        P = epg_rf(P, alpha, pi/2)[0]    # 90 degree tip\n",
    "\n",
    "        for i in range(T):\n",
    "            alpha = angles_rad[i] * (1 + B_err)\n",
    "            P = epg_relax(P, T1, T2, TE/2.)[0]\n",
    "            P = epg_grad(P)\n",
    "            P = epg_rf(P, alpha, 0)[0]\n",
    "            P = epg_relax(P, T1, T2, TE/2.)[0]\n",
    "            P = epg_grad(P)\n",
    "            \n",
    "            A_vals[i, b, j] = np.abs(P[0,0])\n"
   ]
  },
  {
   "cell_type": "code",
   "execution_count": null,
   "metadata": {
    "collapsed": true
   },
   "outputs": [],
   "source": []
  }
 ],
 "metadata": {
  "kernelspec": {
   "display_name": "Python 2",
   "language": "python",
   "name": "python2"
  },
  "language_info": {
   "codemirror_mode": {
    "name": "ipython",
    "version": 2
   },
   "file_extension": ".py",
   "mimetype": "text/x-python",
   "name": "python",
   "nbconvert_exporter": "python",
   "pygments_lexer": "ipython2",
   "version": "2.7.9"
  }
 },
 "nbformat": 4,
 "nbformat_minor": 0
}
